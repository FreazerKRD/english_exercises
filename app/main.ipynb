{
 "cells": [
  {
   "cell_type": "code",
   "execution_count": 1,
   "id": "6c3270c8",
   "metadata": {},
   "outputs": [],
   "source": [
    "# # Установка необходимых библиотек при необходимости\n",
    "# !pip install sentence-splitter\n",
    "# !pip install pyinflect\n",
    "# !python -m spacy download en_core_web_md \n",
    "# !pip install aiogram\n",
    "# !pip install logging"
   ]
  },
  {
   "cell_type": "code",
   "execution_count": 2,
   "id": "9bdaf6bb",
   "metadata": {},
   "outputs": [],
   "source": [
    "# прямо в тетрадке пишете !pipreqsnb . --force\n",
    "# точка - что requirements создается прям здесь рядом с тетрадкой\n",
    "# форс - перезаписать если такой файл уже есть"
   ]
  },
  {
   "cell_type": "code",
   "execution_count": 3,
   "id": "75db2009",
   "metadata": {},
   "outputs": [],
   "source": [
    "import pandas as pd\n",
    "from english_exercises import ExerciseGenerator"
   ]
  },
  {
   "cell_type": "code",
   "execution_count": 5,
   "id": "00a0eeb1",
   "metadata": {},
   "outputs": [
    {
     "name": "stderr",
     "output_type": "stream",
     "text": [
      "INFO:gensim.models.keyedvectors:loading projection weights from C:\\Users\\freazer/gensim-data\\glove-wiki-gigaword-100\\glove-wiki-gigaword-100.gz\n",
      "INFO:gensim.utils:KeyedVectors lifecycle event {'msg': 'loaded (400000, 100) matrix of type float32 from C:\\\\Users\\\\freazer/gensim-data\\\\glove-wiki-gigaword-100\\\\glove-wiki-gigaword-100.gz', 'binary': False, 'encoding': 'utf8', 'datetime': '2023-07-17T17:43:18.825876', 'gensim': '4.1.2', 'python': '3.9.13 (main, Aug 25 2022, 23:51:50) [MSC v.1916 64 bit (AMD64)]', 'platform': 'Windows-10-10.0.19045-SP0', 'event': 'load_word2vec_format'}\n"
     ]
    }
   ],
   "source": [
    "eg = ExerciseGenerator()\n",
    "file_name = \"Little_Red_Cap_ Jacob_and_Wilhelm_Grimm.txt\""
   ]
  },
  {
   "cell_type": "code",
   "execution_count": 7,
   "id": "01ccec23",
   "metadata": {},
   "outputs": [],
   "source": [
    "eg.new_file(file_name)"
   ]
  },
  {
   "cell_type": "code",
   "execution_count": 8,
   "id": "8d287263",
   "metadata": {},
   "outputs": [
    {
     "name": "stdout",
     "output_type": "stream",
     "text": [
      "                                                   raw\n",
      "0                                       Little Red Cap\n",
      "1                              Jacob and Wilhelm Grimm\n",
      "2      Once upon a time there was a sweet little girl.\n",
      "3    Everyone who saw her liked her, but most of al...\n",
      "4    Once she gave her a little cap made of red vel...\n",
      "..                                                 ...\n",
      "107  Marie Hassenpflug (1788-1856) provided them wi...\n",
      "108  The German title of this tale is Rotkäppchen (...\n",
      "109  Link to an English translation of the Grimms' ...\n",
      "110  Link to the German text of the Grimms' final v...\n",
      "111  1 (Göttingen: Verlag der Dieterichschen Buchha...\n",
      "\n",
      "[112 rows x 1 columns]\n"
     ]
    }
   ],
   "source": [
    "print(eg._ExerciseGenerator__df)"
   ]
  },
  {
   "cell_type": "code",
   "execution_count": 9,
   "id": "b8b4a009",
   "metadata": {},
   "outputs": [],
   "source": [
    "# Dataframe structure\n",
    "# Column for raw sentence\n",
    "df_cols = ['raw']\n",
    "# Columns for 'Select word task'\n",
    "df_cols.extend(['sel_wrd_obj', 'sel_wrd_opt'])\n",
    "# Columns for 'Missing word task'\n",
    "df_cols.extend(['miss_wrd_obj', 'miss_wrd_opt'])\n",
    "# Columns for 'Select sentence task'\n",
    "df_cols.extend(['sel_snt_obj', 'sel_snt_opt'])\n",
    "# Columns for 'Noun phrases task'\n",
    "df_cols.extend(['noun_obj', 'noun_opt', 'noun_ans'])\n",
    "# Make full DF structure\n",
    "df = pd.DataFrame(columns=df_cols)\n",
    "\n",
    "# User training options\n",
    "user_options = ['select_word', 'missing_word', 'select_sent', 'noun_phrases']"
   ]
  },
  {
   "cell_type": "code",
   "execution_count": 10,
   "id": "829981e3",
   "metadata": {},
   "outputs": [
    {
     "data": {
      "text/html": [
       "<div>\n",
       "<style scoped>\n",
       "    .dataframe tbody tr th:only-of-type {\n",
       "        vertical-align: middle;\n",
       "    }\n",
       "\n",
       "    .dataframe tbody tr th {\n",
       "        vertical-align: top;\n",
       "    }\n",
       "\n",
       "    .dataframe thead th {\n",
       "        text-align: right;\n",
       "    }\n",
       "</style>\n",
       "<table border=\"1\" class=\"dataframe\">\n",
       "  <thead>\n",
       "    <tr style=\"text-align: right;\">\n",
       "      <th></th>\n",
       "      <th>raw</th>\n",
       "      <th>sel_wrd_obj</th>\n",
       "      <th>sel_wrd_opt</th>\n",
       "      <th>miss_wrd_obj</th>\n",
       "      <th>miss_wrd_opt</th>\n",
       "      <th>sel_snt_obj</th>\n",
       "      <th>sel_snt_opt</th>\n",
       "      <th>noun_obj</th>\n",
       "      <th>noun_opt</th>\n",
       "      <th>noun_ans</th>\n",
       "    </tr>\n",
       "  </thead>\n",
       "  <tbody>\n",
       "  </tbody>\n",
       "</table>\n",
       "</div>"
      ],
      "text/plain": [
       "Empty DataFrame\n",
       "Columns: [raw, sel_wrd_obj, sel_wrd_opt, miss_wrd_obj, miss_wrd_opt, sel_snt_obj, sel_snt_opt, noun_obj, noun_opt, noun_ans]\n",
       "Index: []"
      ]
     },
     "execution_count": 10,
     "metadata": {},
     "output_type": "execute_result"
    }
   ],
   "source": [
    "df"
   ]
  },
  {
   "cell_type": "code",
   "execution_count": 11,
   "id": "e3e4f3d7",
   "metadata": {},
   "outputs": [],
   "source": [
    "async def send_hello_message(chat_id: int):\n",
    "    await bot.send_message(chat_id, 'Привет, мир!')"
   ]
  },
  {
   "cell_type": "code",
   "execution_count": null,
   "id": "0c3491bc",
   "metadata": {},
   "outputs": [],
   "source": []
  }
 ],
 "metadata": {
  "kernelspec": {
   "display_name": "Python 3 (ipykernel)",
   "language": "python",
   "name": "python3"
  },
  "language_info": {
   "codemirror_mode": {
    "name": "ipython",
    "version": 3
   },
   "file_extension": ".py",
   "mimetype": "text/x-python",
   "name": "python",
   "nbconvert_exporter": "python",
   "pygments_lexer": "ipython3",
   "version": "3.9.13"
  },
  "toc": {
   "base_numbering": 1,
   "nav_menu": {},
   "number_sections": true,
   "sideBar": true,
   "skip_h1_title": false,
   "title_cell": "Table of Contents",
   "title_sidebar": "Contents",
   "toc_cell": false,
   "toc_position": {},
   "toc_section_display": true,
   "toc_window_display": false
  }
 },
 "nbformat": 4,
 "nbformat_minor": 5
}
